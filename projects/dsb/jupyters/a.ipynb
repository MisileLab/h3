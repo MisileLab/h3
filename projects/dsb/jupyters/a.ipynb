{
 "cells": [
  {
   "attachments": {},
   "cell_type": "markdown",
   "metadata": {},
   "source": [
    "이 실험은 여러 사람이 한 물건을 놓고 입찰을 하는 실험입니다.\n",
    "입찰에 실패한 사람은 마지막 입찰가를 벌금으로 내게 됩니다.\n",
    "\n",
    "# 이 실험의 의미\n",
    "\n",
    "모두가 합리적 선택을 했다고 했을때(아니면 그렇게 느낄 때), 그 행동이 어떻게 비합리적 선택으로 돌아오게 되는지에 대한 실험입니다.\n",
    "\n",
    "## 실험 준비물\n",
    "\n",
    "- Python && Poetry로 설치한 환경\n",
    "\n",
    "## 기본 게임 구현\n",
    "\n",
    "기본 게임은 두 사람이 경매를 하는 평범한 게임으로 시작합니다.\n",
    "(포기는 q키)"
   ]
  },
  {
   "cell_type": "code",
   "execution_count": null,
   "metadata": {},
   "outputs": [],
   "source": [
    "players = [-1, -1]\n",
    "turn = 1\n",
    "money = 50000\n",
    "a = \"-1\"\n",
    "\n",
    "while True:\n",
    "    a = input(f\"Player {turn}: \")\n",
    "    if a == \"q\":\n",
    "        print(f\"Player {turn} quit, final price is {max(players)}\")\n",
    "        break\n",
    "    if int(a) <= max(players):\n",
    "        continue\n",
    "    players[turn - 1] = int(a)\n",
    "    turn = 1 if turn == 2 else 2"
   ]
  }
 ],
 "metadata": {
  "kernelspec": {
   "display_name": ".venv",
   "language": "python",
   "name": "python3"
  },
  "language_info": {
   "codemirror_mode": {
    "name": "ipython",
    "version": 3
   },
   "file_extension": ".py",
   "mimetype": "text/x-python",
   "name": "python",
   "nbconvert_exporter": "python",
   "pygments_lexer": "ipython3",
   "version": "3.11.4"
  },
  "orig_nbformat": 4
 },
 "nbformat": 4,
 "nbformat_minor": 2
}
