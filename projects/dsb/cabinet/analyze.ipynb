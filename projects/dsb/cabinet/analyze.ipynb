{
 "cells": [
  {
   "cell_type": "code",
   "execution_count": null,
   "metadata": {},
   "outputs": [],
   "source": [
    "from pickle import load\n",
    "from os import listdir, remove\n",
    "\n",
    "for i in listdir(\"./results\"):\n",
    "  print(i)\n",
    "  a = load(open(f'./results/{i}', 'rb'))\n",
    "  print(a[0].rawContent)\n",
    "  print(a[0].user.url)\n",
    "  while True:\n",
    "    d = input(\"delete or not\")\n",
    "    if d == \"delete\":\n",
    "      try:\n",
    "        remove(f'./results/{i}')\n",
    "      except FileNotFoundError:\n",
    "        print(\"file not found\")\n",
    "      finally:\n",
    "        break\n",
    "    elif d == \"n\":\n",
    "      break\n",
    "    else:\n",
    "      print(\"try again\")"
   ]
  },
  {
   "cell_type": "code",
   "execution_count": 3,
   "metadata": {},
   "outputs": [
    {
     "name": "stdout",
     "output_type": "stream",
     "text": [
      "33 4817\n"
     ]
    }
   ],
   "source": [
    "from os import listdir\n",
    "from pickle import load\n",
    "\n",
    "a = [load(open(f'./results/{i}', 'rb')) for i in listdir(\"./results\")]\n",
    "print(len(a), sum(len(i) for i in a))"
   ]
  }
 ],
 "metadata": {
  "kernelspec": {
   "display_name": ".venv",
   "language": "python",
   "name": "python3"
  },
  "language_info": {
   "codemirror_mode": {
    "name": "ipython",
    "version": 3
   },
   "file_extension": ".py",
   "mimetype": "text/x-python",
   "name": "python",
   "nbconvert_exporter": "python",
   "pygments_lexer": "ipython3",
   "version": "3.13.1"
  }
 },
 "nbformat": 4,
 "nbformat_minor": 2
}
